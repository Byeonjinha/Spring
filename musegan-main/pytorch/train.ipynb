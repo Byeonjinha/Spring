{
 "cells": [
  {
   "cell_type": "markdown",
   "id": "b4b71432",
   "metadata": {},
   "source": [
    "# 작곡하는 AI 만들기 튜토리얼"
   ]
  },
  {
   "cell_type": "markdown",
   "id": "c6e431fe",
   "metadata": {},
   "source": [
    "## 패키지 다운로드"
   ]
  },
  {
   "cell_type": "code",
   "execution_count": 16,
   "id": "ee8f008c",
   "metadata": {},
   "outputs": [
    {
     "name": "stderr",
     "output_type": "stream",
     "text": [
      "ERROR: Could not find a version that satisfies the requirement torch (from versions: none)\n",
      "ERROR: No matching distribution found for torch\n",
      "WARNING: You are using pip version 21.2.4; however, version 21.3.1 is available.\n",
      "You should consider upgrading via the 'C:\\Python38\\python.exe -m pip install --upgrade pip' command.\n"
     ]
    }
   ],
   "source": [
    "!pip install torch matplotlib tqdm livelossplot gdown \"pypianoroll>=1.0.2\""
   ]
  },
  {
   "cell_type": "markdown",
   "id": "02cb1a23",
   "metadata": {},
   "source": [
    "## 패키지 로드"
   ]
  },
  {
   "cell_type": "code",
   "execution_count": 17,
   "id": "782faa04",
   "metadata": {},
   "outputs": [
    {
     "ename": "ModuleNotFoundError",
     "evalue": "No module named 'torch'",
     "output_type": "error",
     "traceback": [
      "\u001b[1;31m---------------------------------------------------------------------------\u001b[0m",
      "\u001b[1;31mModuleNotFoundError\u001b[0m                       Traceback (most recent call last)",
      "Input \u001b[1;32mIn [17]\u001b[0m, in \u001b[0;36m<module>\u001b[1;34m\u001b[0m\n\u001b[0;32m      4\u001b[0m \u001b[38;5;28;01mimport\u001b[39;00m \u001b[38;5;21;01mnumpy\u001b[39;00m \u001b[38;5;28;01mas\u001b[39;00m \u001b[38;5;21;01mnp\u001b[39;00m\n\u001b[0;32m      5\u001b[0m \u001b[38;5;28;01mimport\u001b[39;00m \u001b[38;5;21;01mmatplotlib\u001b[39;00m\u001b[38;5;21;01m.\u001b[39;00m\u001b[38;5;21;01mpyplot\u001b[39;00m \u001b[38;5;28;01mas\u001b[39;00m \u001b[38;5;21;01mplt\u001b[39;00m\n\u001b[1;32m----> 6\u001b[0m \u001b[38;5;28;01mimport\u001b[39;00m \u001b[38;5;21;01mtorch\u001b[39;00m\n\u001b[0;32m      7\u001b[0m \u001b[38;5;28;01mimport\u001b[39;00m \u001b[38;5;21;01mpypianoroll\u001b[39;00m\n\u001b[0;32m      8\u001b[0m \u001b[38;5;28;01mfrom\u001b[39;00m \u001b[38;5;21;01mpypianoroll\u001b[39;00m \u001b[38;5;28;01mimport\u001b[39;00m Multitrack, BinaryTrack\n",
      "\u001b[1;31mModuleNotFoundError\u001b[0m: No module named 'torch'"
     ]
    }
   ],
   "source": [
    "from IPython.display import clear_output\n",
    "\n",
    "import os\n",
    "import numpy as np\n",
    "import matplotlib.pyplot as plt\n",
    "import torch\n",
    "import pypianoroll\n",
    "from pypianoroll import Multitrack, BinaryTrack\n",
    "from tqdm import tqdm\n",
    "from livelossplot import PlotLosses\n",
    "from livelossplot.outputs import MatplotlibPlot\n",
    "\n",
    "from Networks import *\n",
    "from utils import *\n",
    "from config import *\n",
    "\n",
    "os.makedirs('result', exist_ok=True)"
   ]
  },
  {
   "cell_type": "markdown",
   "id": "605a431d",
   "metadata": {},
   "source": [
    "## 학습 데이터 로드\n",
    "\n",
    "https://salu133445.github.io/lakh-pianoroll-dataset"
   ]
  },
  {
   "cell_type": "code",
   "execution_count": 18,
   "id": "a6c57a12",
   "metadata": {},
   "outputs": [
    {
     "name": "stdout",
     "output_type": "stream",
     "text": [
      "(26154, 5, 64, 72)\n",
      "[[False False False ... False False False]\n",
      " [False False False ... False False False]\n",
      " [False False False ... False False False]\n",
      " ...\n",
      " [False False False ... False False False]\n",
      " [False False False ... False False False]\n",
      " [False False False ... False False False]]\n"
     ]
    }
   ],
   "source": [
    "data = np.load('data/data.npz')['data']\n",
    "\n",
    "print(data.shape)\n",
    "\n",
    "print(data[:4][0][0])"
   ]
  },
  {
   "cell_type": "markdown",
   "id": "390065a9",
   "metadata": {},
   "source": [
    "## 학습 데이터 미리보기"
   ]
  },
  {
   "cell_type": "code",
   "execution_count": 19,
   "id": "4e373ba3",
   "metadata": {
    "scrolled": false
   },
   "outputs": [
    {
     "ename": "NameError",
     "evalue": "name 'programs' is not defined",
     "output_type": "error",
     "traceback": [
      "\u001b[1;31m---------------------------------------------------------------------------\u001b[0m",
      "\u001b[1;31mNameError\u001b[0m                                 Traceback (most recent call last)",
      "Input \u001b[1;32mIn [19]\u001b[0m, in \u001b[0;36m<module>\u001b[1;34m\u001b[0m\n\u001b[0;32m      1\u001b[0m tracks \u001b[38;5;241m=\u001b[39m []\n\u001b[1;32m----> 2\u001b[0m \u001b[38;5;28;01mfor\u001b[39;00m idx, (program, is_drum, track_name) \u001b[38;5;129;01min\u001b[39;00m \u001b[38;5;28menumerate\u001b[39m(\u001b[38;5;28mzip\u001b[39m(\u001b[43mprograms\u001b[49m, is_drums, track_names)):\n\u001b[0;32m      3\u001b[0m     pianoroll \u001b[38;5;241m=\u001b[39m np\u001b[38;5;241m.\u001b[39mpad(\n\u001b[0;32m      4\u001b[0m         np\u001b[38;5;241m.\u001b[39mconcatenate(data[:\u001b[38;5;241m4\u001b[39m], \u001b[38;5;241m1\u001b[39m)[idx], ((\u001b[38;5;241m0\u001b[39m, \u001b[38;5;241m0\u001b[39m), (lowest_pitch, \u001b[38;5;241m128\u001b[39m \u001b[38;5;241m-\u001b[39m lowest_pitch \u001b[38;5;241m-\u001b[39m n_pitches)))\n\u001b[0;32m      5\u001b[0m     tracks\u001b[38;5;241m.\u001b[39mappend(BinaryTrack(name\u001b[38;5;241m=\u001b[39mtrack_name, program\u001b[38;5;241m=\u001b[39mprogram, is_drum\u001b[38;5;241m=\u001b[39mis_drum, pianoroll\u001b[38;5;241m=\u001b[39mpianoroll))\n",
      "\u001b[1;31mNameError\u001b[0m: name 'programs' is not defined"
     ]
    }
   ],
   "source": [
    "tracks = []\n",
    "for idx, (program, is_drum, track_name) in enumerate(zip(programs, is_drums, track_names)):\n",
    "    pianoroll = np.pad(\n",
    "        np.concatenate(data[:4], 1)[idx], ((0, 0), (lowest_pitch, 128 - lowest_pitch - n_pitches)))\n",
    "    tracks.append(BinaryTrack(name=track_name, program=program, is_drum=is_drum, pianoroll=pianoroll))\n",
    "multitrack = Multitrack(tracks=tracks, tempo=tempo_array, resolution=beat_resolution)\n",
    "axs = multitrack.plot()\n",
    "plt.gcf().set_size_inches((20, 10))\n",
    "for ax in axs:\n",
    "    for x in range(measure_resolution, 4 * 4 * measure_resolution, measure_resolution):\n",
    "        if x % (measure_resolution * 4) == 0:\n",
    "            ax.axvline(x - 0.5, color='k')\n",
    "        else:\n",
    "            ax.axvline(x - 0.5, color='k', linestyle='-', linewidth=1)\n",
    "plt.show()"
   ]
  },
  {
   "cell_type": "markdown",
   "id": "e1f235ff",
   "metadata": {},
   "source": [
    "## 학습 데이터 미리듣기\n",
    "\n",
    "https://signal.vercel.app/edit"
   ]
  },
  {
   "cell_type": "code",
   "execution_count": 20,
   "id": "5d58b800",
   "metadata": {},
   "outputs": [
    {
     "ename": "NameError",
     "evalue": "name 'multitrack' is not defined",
     "output_type": "error",
     "traceback": [
      "\u001b[1;31m---------------------------------------------------------------------------\u001b[0m",
      "\u001b[1;31mNameError\u001b[0m                                 Traceback (most recent call last)",
      "Input \u001b[1;32mIn [20]\u001b[0m, in \u001b[0;36m<module>\u001b[1;34m\u001b[0m\n\u001b[1;32m----> 1\u001b[0m \u001b[43mmultitrack\u001b[49m\u001b[38;5;241m.\u001b[39mwrite(\u001b[38;5;124m'\u001b[39m\u001b[38;5;124mtrain_sample.mid\u001b[39m\u001b[38;5;124m'\u001b[39m)\n",
      "\u001b[1;31mNameError\u001b[0m: name 'multitrack' is not defined"
     ]
    }
   ],
   "source": [
    "multitrack.write('train_sample.mid')"
   ]
  },
  {
   "cell_type": "markdown",
   "id": "1f926599",
   "metadata": {},
   "source": [
    "## Numpy -> Torch Tensor"
   ]
  },
  {
   "cell_type": "code",
   "execution_count": null,
   "id": "697fc182",
   "metadata": {},
   "outputs": [],
   "source": [
    "data = torch.as_tensor(data, dtype=torch.float32)\n",
    "dataset = torch.utils.data.TensorDataset(data)\n",
    "data_loader = torch.utils.data.DataLoader(\n",
    "    dataset, batch_size=batch_size, drop_last=True, shuffle=True)"
   ]
  },
  {
   "cell_type": "markdown",
   "id": "d78b5d6f",
   "metadata": {},
   "source": [
    "## 모델 정의하기"
   ]
  },
  {
   "cell_type": "code",
   "execution_count": 21,
   "id": "20d5d2b2",
   "metadata": {},
   "outputs": [
    {
     "ename": "NameError",
     "evalue": "name 'Discriminator' is not defined",
     "output_type": "error",
     "traceback": [
      "\u001b[1;31m---------------------------------------------------------------------------\u001b[0m",
      "\u001b[1;31mNameError\u001b[0m                                 Traceback (most recent call last)",
      "Input \u001b[1;32mIn [21]\u001b[0m, in \u001b[0;36m<module>\u001b[1;34m\u001b[0m\n\u001b[1;32m----> 1\u001b[0m discriminator \u001b[38;5;241m=\u001b[39m \u001b[43mDiscriminator\u001b[49m()\n\u001b[0;32m      2\u001b[0m generator \u001b[38;5;241m=\u001b[39m Generator()\n\u001b[0;32m      4\u001b[0m \u001b[38;5;28mprint\u001b[39m(\u001b[38;5;124m\"\u001b[39m\u001b[38;5;124mNumber of parameters in G: \u001b[39m\u001b[38;5;132;01m{}\u001b[39;00m\u001b[38;5;124m\"\u001b[39m\u001b[38;5;241m.\u001b[39mformat(\n\u001b[0;32m      5\u001b[0m     \u001b[38;5;28msum\u001b[39m(p\u001b[38;5;241m.\u001b[39mnumel() \u001b[38;5;28;01mfor\u001b[39;00m p \u001b[38;5;129;01min\u001b[39;00m generator\u001b[38;5;241m.\u001b[39mparameters() \u001b[38;5;28;01mif\u001b[39;00m p\u001b[38;5;241m.\u001b[39mrequires_grad)))\n",
      "\u001b[1;31mNameError\u001b[0m: name 'Discriminator' is not defined"
     ]
    }
   ],
   "source": [
    "discriminator = Discriminator()\n",
    "generator = Generator()\n",
    "\n",
    "print(\"Number of parameters in G: {}\".format(\n",
    "    sum(p.numel() for p in generator.parameters() if p.requires_grad)))\n",
    "print(\"Number of parameters in D: {}\".format(\n",
    "    sum(p.numel() for p in discriminator.parameters() if p.requires_grad)))"
   ]
  },
  {
   "cell_type": "markdown",
   "id": "fea89f36",
   "metadata": {},
   "source": [
    "## 학습 유틸리티 정의"
   ]
  },
  {
   "cell_type": "code",
   "execution_count": 22,
   "id": "91cfd1f0",
   "metadata": {},
   "outputs": [
    {
     "ename": "NameError",
     "evalue": "name 'torch' is not defined",
     "output_type": "error",
     "traceback": [
      "\u001b[1;31m---------------------------------------------------------------------------\u001b[0m",
      "\u001b[1;31mNameError\u001b[0m                                 Traceback (most recent call last)",
      "Input \u001b[1;32mIn [22]\u001b[0m, in \u001b[0;36m<module>\u001b[1;34m\u001b[0m\n\u001b[0;32m      1\u001b[0m \u001b[38;5;66;03m# Create optimizers\u001b[39;00m\n\u001b[1;32m----> 2\u001b[0m d_optimizer \u001b[38;5;241m=\u001b[39m \u001b[43mtorch\u001b[49m\u001b[38;5;241m.\u001b[39moptim\u001b[38;5;241m.\u001b[39mAdam(\n\u001b[0;32m      3\u001b[0m     discriminator\u001b[38;5;241m.\u001b[39mparameters(), lr\u001b[38;5;241m=\u001b[39m\u001b[38;5;241m0.001\u001b[39m,  betas\u001b[38;5;241m=\u001b[39m(\u001b[38;5;241m0.5\u001b[39m, \u001b[38;5;241m0.9\u001b[39m))\n\u001b[0;32m      4\u001b[0m g_optimizer \u001b[38;5;241m=\u001b[39m torch\u001b[38;5;241m.\u001b[39moptim\u001b[38;5;241m.\u001b[39mAdam(\n\u001b[0;32m      5\u001b[0m     generator\u001b[38;5;241m.\u001b[39mparameters(), lr\u001b[38;5;241m=\u001b[39m\u001b[38;5;241m0.001\u001b[39m, betas\u001b[38;5;241m=\u001b[39m(\u001b[38;5;241m0.5\u001b[39m, \u001b[38;5;241m0.9\u001b[39m))\n\u001b[0;32m      7\u001b[0m \u001b[38;5;66;03m# Prepare the inputs for the sampler, which wil run during the training\u001b[39;00m\n",
      "\u001b[1;31mNameError\u001b[0m: name 'torch' is not defined"
     ]
    }
   ],
   "source": [
    "# Create optimizers\n",
    "d_optimizer = torch.optim.Adam(\n",
    "    discriminator.parameters(), lr=0.001,  betas=(0.5, 0.9))\n",
    "g_optimizer = torch.optim.Adam(\n",
    "    generator.parameters(), lr=0.001, betas=(0.5, 0.9))\n",
    "\n",
    "# Prepare the inputs for the sampler, which wil run during the training\n",
    "sample_latent = torch.randn(n_samples, latent_dim)\n",
    "\n",
    "# Transfer the neural nets and samples to GPU\n",
    "if torch.cuda.is_available():\n",
    "    discriminator = discriminator.cuda()\n",
    "    generator = generator.cuda()\n",
    "    sample_latent = sample_latent.cuda()\n",
    "\n",
    "# Create a LiveLoss logger instance for monitoring\n",
    "liveloss = PlotLosses(outputs=[MatplotlibPlot(cell_size=(6,2))])"
   ]
  },
  {
   "cell_type": "markdown",
   "id": "62d877cc",
   "metadata": {},
   "source": [
    "## 학습"
   ]
  },
  {
   "cell_type": "code",
   "execution_count": 23,
   "id": "d24e35ac",
   "metadata": {},
   "outputs": [
    {
     "ename": "NameError",
     "evalue": "name 'tqdm' is not defined",
     "output_type": "error",
     "traceback": [
      "\u001b[1;31m---------------------------------------------------------------------------\u001b[0m",
      "\u001b[1;31mNameError\u001b[0m                                 Traceback (most recent call last)",
      "Input \u001b[1;32mIn [23]\u001b[0m, in \u001b[0;36m<module>\u001b[1;34m\u001b[0m\n\u001b[0;32m      1\u001b[0m step \u001b[38;5;241m=\u001b[39m \u001b[38;5;241m0\u001b[39m\n\u001b[0;32m      3\u001b[0m \u001b[38;5;66;03m# Create a progress bar instance for monitoring\u001b[39;00m\n\u001b[1;32m----> 4\u001b[0m progress_bar \u001b[38;5;241m=\u001b[39m \u001b[43mtqdm\u001b[49m(total\u001b[38;5;241m=\u001b[39mn_steps, initial\u001b[38;5;241m=\u001b[39mstep, ncols\u001b[38;5;241m=\u001b[39m\u001b[38;5;241m80\u001b[39m, mininterval\u001b[38;5;241m=\u001b[39m\u001b[38;5;241m1\u001b[39m)\n\u001b[0;32m      6\u001b[0m \u001b[38;5;66;03m# Start iterations\u001b[39;00m\n\u001b[0;32m      7\u001b[0m \u001b[38;5;28;01mwhile\u001b[39;00m step \u001b[38;5;241m<\u001b[39m n_steps \u001b[38;5;241m+\u001b[39m \u001b[38;5;241m1\u001b[39m:\n\u001b[0;32m      8\u001b[0m     \u001b[38;5;66;03m# Iterate over the dataset\u001b[39;00m\n",
      "\u001b[1;31mNameError\u001b[0m: name 'tqdm' is not defined"
     ]
    }
   ],
   "source": [
    "step = 0\n",
    "\n",
    "# Create a progress bar instance for monitoring\n",
    "progress_bar = tqdm(total=n_steps, initial=step, ncols=80, mininterval=1)\n",
    "\n",
    "# Start iterations\n",
    "while step < n_steps + 1:\n",
    "    # Iterate over the dataset\n",
    "    for real_samples in data_loader:\n",
    "        # Train the neural networks\n",
    "        generator.train()\n",
    "        d_loss, g_loss = train_one_step(discriminator, generator, d_optimizer, g_optimizer, real_samples[0])\n",
    "\n",
    "        # Record smoothened loss values to LiveLoss logger\n",
    "        if step > 0:\n",
    "            running_d_loss = 0.05 * d_loss + 0.95 * running_d_loss\n",
    "            running_g_loss = 0.05 * g_loss + 0.95 * running_g_loss\n",
    "        else:\n",
    "            running_d_loss, running_g_loss = 0.0, 0.0\n",
    "        liveloss.update({'negative_critic_loss': -running_d_loss})\n",
    "        # liveloss.update({'d_loss': running_d_loss, 'g_loss': running_g_loss})\n",
    "        \n",
    "        # Update losses to progress bar\n",
    "        progress_bar.set_description_str(\n",
    "            \"(d_loss={: 8.6f}, g_loss={: 8.6f})\".format(d_loss, g_loss))\n",
    "        \n",
    "        if step % sample_interval == 0:\n",
    "            # Get generated samples\n",
    "            generator.eval()\n",
    "            samples = generator(sample_latent).cpu().detach().numpy()\n",
    "\n",
    "            # Display loss curves\n",
    "            clear_output(True)\n",
    "            if step > 0:\n",
    "                liveloss.send()\n",
    "            \n",
    "            # Display generated samples\n",
    "            samples = samples.transpose(1, 0, 2, 3).reshape(n_tracks, -1, n_pitches)\n",
    "            tracks = []\n",
    "            for idx, (program, is_drum, track_name) in enumerate(\n",
    "                zip(programs, is_drums, track_names)\n",
    "            ):\n",
    "                pianoroll = np.pad(\n",
    "                    samples[idx] > 0.5,\n",
    "                    ((0, 0), (lowest_pitch, 128 - lowest_pitch - n_pitches))\n",
    "                )\n",
    "                tracks.append(\n",
    "                    BinaryTrack(\n",
    "                        name=track_name,\n",
    "                        program=program,\n",
    "                        is_drum=is_drum,\n",
    "                        pianoroll=pianoroll\n",
    "                    )\n",
    "                )\n",
    "            m = Multitrack(\n",
    "                tracks=tracks,\n",
    "                tempo=tempo_array,\n",
    "                resolution=beat_resolution\n",
    "            )\n",
    "            \n",
    "            m.write(f'result/{str(step).zfill(5)}.mid')\n",
    "            \n",
    "        step += 1\n",
    "        progress_bar.update(1)\n",
    "        if step >= n_steps:\n",
    "            break"
   ]
  },
  {
   "cell_type": "markdown",
   "id": "53435abc",
   "metadata": {},
   "source": [
    "## 결과 미리보기"
   ]
  },
  {
   "cell_type": "code",
   "execution_count": null,
   "id": "8a86adc7",
   "metadata": {},
   "outputs": [],
   "source": [
    "axs = m.plot()\n",
    "plt.gcf().set_size_inches((20, 10))\n",
    "for ax in axs:\n",
    "    for x in range(measure_resolution, 4 * 4 * measure_resolution, measure_resolution):\n",
    "        if x % (measure_resolution * 4) == 0:\n",
    "            ax.axvline(x - 0.5, color='k')\n",
    "        else:\n",
    "            ax.axvline(x - 0.5, color='k', linestyle='-', linewidth=1)\n",
    "plt.show()"
   ]
  },
  {
   "cell_type": "code",
   "execution_count": null,
   "id": "ebf345eb",
   "metadata": {},
   "outputs": [],
   "source": []
  }
 ],
 "metadata": {
  "kernelspec": {
   "display_name": "Python 3",
   "language": "python",
   "name": "python3"
  },
  "language_info": {
   "codemirror_mode": {
    "name": "ipython",
    "version": 3
   },
   "file_extension": ".py",
   "mimetype": "text/x-python",
   "name": "python",
   "nbconvert_exporter": "python",
   "pygments_lexer": "ipython3",
   "version": "3.10.1"
  }
 },
 "nbformat": 4,
 "nbformat_minor": 5
}
